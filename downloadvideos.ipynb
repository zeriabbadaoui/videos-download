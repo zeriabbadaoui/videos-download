{
  "nbformat": 4,
  "nbformat_minor": 0,
  "metadata": {
    "colab": {
      "provenance": [],
      "collapsed_sections": []
    },
    "kernelspec": {
      "name": "python3",
      "display_name": "Python 3"
    },
    "language_info": {
      "name": "python"
    }
  },
  "cells": [
    {
      "cell_type": "code",
      "source": [
        "import requests"
      ],
      "metadata": {
        "id": "zHO0aEwmAUwN"
      },
      "execution_count": null,
      "outputs": []
    },
    {
      "cell_type": "code",
      "execution_count": null,
      "metadata": {
        "id": "Ti44AxrDAM-9"
      },
      "outputs": [],
      "source": [
        "def scrapvideos(videoname):\n",
        "  requests.get(input('add link:'))\n",
        "  videoname=videoname+'.mp4'\n",
        "  with open(videoname, 'wb') as file:\n",
        "     for chunk in video.iter_content(chunk_size=1024):\n",
        "         file.write(chunk)"
      ]
    },
    {
      "cell_type": "code",
      "source": [
        "scrapvideos('name of the videos')"
      ],
      "metadata": {
        "id": "GCmY6Z-8AZ9S"
      },
      "execution_count": null,
      "outputs": []
    }
  ]
}